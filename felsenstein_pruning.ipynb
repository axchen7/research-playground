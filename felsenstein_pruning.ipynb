{
 "cells": [
  {
   "cell_type": "code",
   "execution_count": 27,
   "metadata": {},
   "outputs": [],
   "source": [
    "from abc import ABC, abstractmethod\n",
    "import numpy as np\n",
    "from scipy.linalg import expm\n",
    "\n",
    "num_states = 3\n",
    "Q = np.array([[-2, 1, 1], [1, -2, 1], [1, 1, -2]])\n",
    "\n",
    "\n",
    "def pr(cur_state: int, t: float):\n",
    "    cur_state_one_hot = np.zeros(num_states)\n",
    "    cur_state_one_hot[cur_state] = 1\n",
    "\n",
    "    return expm(Q * t) @ cur_state_one_hot\n",
    "\n",
    "\n",
    "class Node(ABC):\n",
    "    @abstractmethod\n",
    "    def likelihood(self, state: int) -> float:\n",
    "        pass\n",
    "\n",
    "\n",
    "class Leaf(Node):\n",
    "    def __init__(self, state: int):\n",
    "        self.state = state\n",
    "\n",
    "    def likelihood(self, state: int) -> float:\n",
    "        return 1 if state == self.state else 0\n",
    "\n",
    "\n",
    "class Parent(Node):\n",
    "    def __init__(self, tL: float, nodeL: \"Node\", tR: float, nodeR: \"Node\"):\n",
    "        self.tL = tL\n",
    "        self.nodeL = nodeL\n",
    "        self.tR = tR\n",
    "        self.nodeR = nodeR\n",
    "\n",
    "    def likelihood(self, state: int) -> float:\n",
    "        likelihood_arr_L = np.array(\n",
    "            [self.nodeL.likelihood(i) for i in range(num_states)]\n",
    "        )\n",
    "        likelihood_arr_R = np.array(\n",
    "            [self.nodeR.likelihood(i) for i in range(num_states)]\n",
    "        )\n",
    "\n",
    "        totalL = np.dot(pr(state, self.tL), likelihood_arr_L)\n",
    "        totalR = np.dot(pr(state, self.tR), likelihood_arr_R)\n",
    "\n",
    "        return totalL * totalR\n",
    "\n",
    "    def treeLikelihood(\n",
    "        self, prior: list[float] = [1 / num_states] * num_states\n",
    "    ) -> float:\n",
    "        return sum([prior[i] * self.likelihood(i) for i in range(num_states)])"
   ]
  },
  {
   "cell_type": "code",
   "execution_count": 28,
   "metadata": {},
   "outputs": [
    {
     "data": {
      "text/plain": [
       "0.0015047673351038832"
      ]
     },
     "execution_count": 28,
     "metadata": {},
     "output_type": "execute_result"
    }
   ],
   "source": [
    "parent1 = Parent(1, Leaf(0), 1, Leaf(1))\n",
    "parent2 = Parent(0.5, Leaf(2), 0.5, Leaf(2))\n",
    "parent3 = Parent(0.5, parent1, 1.5, Leaf(0))\n",
    "parent4 = Parent(1, parent3, 2, parent2)\n",
    "parent5 = Parent(0.5, parent4, 2.5, Leaf(1))\n",
    "\n",
    "parent5.treeLikelihood()"
   ]
  }
 ],
 "metadata": {
  "kernelspec": {
   "display_name": "base",
   "language": "python",
   "name": "python3"
  },
  "language_info": {
   "codemirror_mode": {
    "name": "ipython",
    "version": 3
   },
   "file_extension": ".py",
   "mimetype": "text/x-python",
   "name": "python",
   "nbconvert_exporter": "python",
   "pygments_lexer": "ipython3",
   "version": "3.11.4"
  },
  "orig_nbformat": 4
 },
 "nbformat": 4,
 "nbformat_minor": 2
}
